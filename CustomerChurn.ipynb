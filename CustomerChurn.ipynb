{
 "cells": [
  {
   "cell_type": "markdown",
   "id": "7de87d5f",
   "metadata": {},
   "source": [
    "# Machine learning First Project\n",
    "## Made By: Momen Bazzar - 1192214\n",
    "### description of the project and dataset: https://www.dropbox.com/s/v56my2jh9fntbnx/COMP4388-Fall2023-Project1.pdf?dl=0"
   ]
  },
  {
   "cell_type": "markdown",
   "id": "a36424e8",
   "metadata": {},
   "source": [
    "### you need to install the follwing packages using command line: pandas, matplotlib\n",
    "<hr/>"
   ]
  },
  {
   "cell_type": "code",
   "execution_count": 10,
   "id": "b91ff8b7",
   "metadata": {
    "scrolled": true
   },
   "outputs": [
    {
     "data": {
      "text/html": [
       "<div>\n",
       "<style scoped>\n",
       "    .dataframe tbody tr th:only-of-type {\n",
       "        vertical-align: middle;\n",
       "    }\n",
       "\n",
       "    .dataframe tbody tr th {\n",
       "        vertical-align: top;\n",
       "    }\n",
       "\n",
       "    .dataframe thead th {\n",
       "        text-align: right;\n",
       "    }\n",
       "</style>\n",
       "<table border=\"1\" class=\"dataframe\">\n",
       "  <thead>\n",
       "    <tr style=\"text-align: right;\">\n",
       "      <th></th>\n",
       "      <th>ID</th>\n",
       "      <th>Call Failure</th>\n",
       "      <th>Complains</th>\n",
       "      <th>Subscription  Length</th>\n",
       "      <th>Charge Amount</th>\n",
       "      <th>Seconds of Use</th>\n",
       "      <th>Freq. of use</th>\n",
       "      <th>Freq. of SMS</th>\n",
       "      <th>Distinct Called Numbers</th>\n",
       "      <th>Age Group</th>\n",
       "      <th>Plan</th>\n",
       "      <th>Status</th>\n",
       "      <th>Age</th>\n",
       "      <th>Customer Value</th>\n",
       "      <th>Churn</th>\n",
       "    </tr>\n",
       "  </thead>\n",
       "  <tbody>\n",
       "    <tr>\n",
       "      <th>0</th>\n",
       "      <td>1</td>\n",
       "      <td>3</td>\n",
       "      <td>no</td>\n",
       "      <td>10</td>\n",
       "      <td>2</td>\n",
       "      <td>1603</td>\n",
       "      <td>25</td>\n",
       "      <td>32</td>\n",
       "      <td>11</td>\n",
       "      <td>3</td>\n",
       "      <td>pre-paid</td>\n",
       "      <td>active</td>\n",
       "      <td>30</td>\n",
       "      <td>193.120</td>\n",
       "      <td>no</td>\n",
       "    </tr>\n",
       "    <tr>\n",
       "      <th>1</th>\n",
       "      <td>2</td>\n",
       "      <td>8</td>\n",
       "      <td>no</td>\n",
       "      <td>37</td>\n",
       "      <td>0</td>\n",
       "      <td>4255</td>\n",
       "      <td>65</td>\n",
       "      <td>0</td>\n",
       "      <td>13</td>\n",
       "      <td>2</td>\n",
       "      <td>pre-paid</td>\n",
       "      <td>active</td>\n",
       "      <td>25</td>\n",
       "      <td>194.400</td>\n",
       "      <td>yes</td>\n",
       "    </tr>\n",
       "    <tr>\n",
       "      <th>2</th>\n",
       "      <td>3</td>\n",
       "      <td>0</td>\n",
       "      <td>no</td>\n",
       "      <td>38</td>\n",
       "      <td>0</td>\n",
       "      <td>0</td>\n",
       "      <td>0</td>\n",
       "      <td>0</td>\n",
       "      <td>0</td>\n",
       "      <td>2</td>\n",
       "      <td>pre-paid</td>\n",
       "      <td>not-active</td>\n",
       "      <td>25</td>\n",
       "      <td>0.000</td>\n",
       "      <td>yes</td>\n",
       "    </tr>\n",
       "    <tr>\n",
       "      <th>3</th>\n",
       "      <td>4</td>\n",
       "      <td>10</td>\n",
       "      <td>no</td>\n",
       "      <td>36</td>\n",
       "      <td>0</td>\n",
       "      <td>2338</td>\n",
       "      <td>54</td>\n",
       "      <td>327</td>\n",
       "      <td>20</td>\n",
       "      <td>2</td>\n",
       "      <td>pre-paid</td>\n",
       "      <td>active</td>\n",
       "      <td>25</td>\n",
       "      <td>1579.140</td>\n",
       "      <td>yes</td>\n",
       "    </tr>\n",
       "    <tr>\n",
       "      <th>4</th>\n",
       "      <td>5</td>\n",
       "      <td>10</td>\n",
       "      <td>no</td>\n",
       "      <td>37</td>\n",
       "      <td>0</td>\n",
       "      <td>4083</td>\n",
       "      <td>60</td>\n",
       "      <td>0</td>\n",
       "      <td>31</td>\n",
       "      <td>1</td>\n",
       "      <td>pre-paid</td>\n",
       "      <td>active</td>\n",
       "      <td>15</td>\n",
       "      <td>227.865</td>\n",
       "      <td>yes</td>\n",
       "    </tr>\n",
       "    <tr>\n",
       "      <th>...</th>\n",
       "      <td>...</td>\n",
       "      <td>...</td>\n",
       "      <td>...</td>\n",
       "      <td>...</td>\n",
       "      <td>...</td>\n",
       "      <td>...</td>\n",
       "      <td>...</td>\n",
       "      <td>...</td>\n",
       "      <td>...</td>\n",
       "      <td>...</td>\n",
       "      <td>...</td>\n",
       "      <td>...</td>\n",
       "      <td>...</td>\n",
       "      <td>...</td>\n",
       "      <td>...</td>\n",
       "    </tr>\n",
       "    <tr>\n",
       "      <th>3145</th>\n",
       "      <td>3146</td>\n",
       "      <td>0</td>\n",
       "      <td>no</td>\n",
       "      <td>16</td>\n",
       "      <td>0</td>\n",
       "      <td>1200</td>\n",
       "      <td>19</td>\n",
       "      <td>12</td>\n",
       "      <td>9</td>\n",
       "      <td>2</td>\n",
       "      <td>pre-paid</td>\n",
       "      <td>active</td>\n",
       "      <td>25</td>\n",
       "      <td>108.855</td>\n",
       "      <td>yes</td>\n",
       "    </tr>\n",
       "    <tr>\n",
       "      <th>3146</th>\n",
       "      <td>3147</td>\n",
       "      <td>9</td>\n",
       "      <td>no</td>\n",
       "      <td>15</td>\n",
       "      <td>0</td>\n",
       "      <td>5897</td>\n",
       "      <td>134</td>\n",
       "      <td>69</td>\n",
       "      <td>37</td>\n",
       "      <td>1</td>\n",
       "      <td>post-paid</td>\n",
       "      <td>active</td>\n",
       "      <td>15</td>\n",
       "      <td>711.205</td>\n",
       "      <td>yes</td>\n",
       "    </tr>\n",
       "    <tr>\n",
       "      <th>3147</th>\n",
       "      <td>3148</td>\n",
       "      <td>5</td>\n",
       "      <td>no</td>\n",
       "      <td>13</td>\n",
       "      <td>0</td>\n",
       "      <td>8437</td>\n",
       "      <td>164</td>\n",
       "      <td>57</td>\n",
       "      <td>35</td>\n",
       "      <td>4</td>\n",
       "      <td>pre-paid</td>\n",
       "      <td>active</td>\n",
       "      <td>45</td>\n",
       "      <td>357.525</td>\n",
       "      <td>yes</td>\n",
       "    </tr>\n",
       "    <tr>\n",
       "      <th>3148</th>\n",
       "      <td>3149</td>\n",
       "      <td>1</td>\n",
       "      <td>no</td>\n",
       "      <td>14</td>\n",
       "      <td>2</td>\n",
       "      <td>2357</td>\n",
       "      <td>38</td>\n",
       "      <td>15</td>\n",
       "      <td>14</td>\n",
       "      <td>3</td>\n",
       "      <td>pre-paid</td>\n",
       "      <td>active</td>\n",
       "      <td>30</td>\n",
       "      <td>155.800</td>\n",
       "      <td>yes</td>\n",
       "    </tr>\n",
       "    <tr>\n",
       "      <th>3149</th>\n",
       "      <td>3150</td>\n",
       "      <td>0</td>\n",
       "      <td>no</td>\n",
       "      <td>7</td>\n",
       "      <td>0</td>\n",
       "      <td>3895</td>\n",
       "      <td>33</td>\n",
       "      <td>199</td>\n",
       "      <td>5</td>\n",
       "      <td>3</td>\n",
       "      <td>pre-paid</td>\n",
       "      <td>active</td>\n",
       "      <td>30</td>\n",
       "      <td>953.120</td>\n",
       "      <td>yes</td>\n",
       "    </tr>\n",
       "  </tbody>\n",
       "</table>\n",
       "<p>3150 rows × 15 columns</p>\n",
       "</div>"
      ],
      "text/plain": [
       "        ID  Call Failure Complains  Subscription  Length  Charge Amount  \\\n",
       "0        1             3        no                    10              2   \n",
       "1        2             8        no                    37              0   \n",
       "2        3             0        no                    38              0   \n",
       "3        4            10        no                    36              0   \n",
       "4        5            10        no                    37              0   \n",
       "...    ...           ...       ...                   ...            ...   \n",
       "3145  3146             0        no                    16              0   \n",
       "3146  3147             9        no                    15              0   \n",
       "3147  3148             5        no                    13              0   \n",
       "3148  3149             1        no                    14              2   \n",
       "3149  3150             0        no                     7              0   \n",
       "\n",
       "      Seconds of Use  Freq. of use  Freq. of SMS  Distinct Called Numbers  \\\n",
       "0               1603            25            32                       11   \n",
       "1               4255            65             0                       13   \n",
       "2                  0             0             0                        0   \n",
       "3               2338            54           327                       20   \n",
       "4               4083            60             0                       31   \n",
       "...              ...           ...           ...                      ...   \n",
       "3145            1200            19            12                        9   \n",
       "3146            5897           134            69                       37   \n",
       "3147            8437           164            57                       35   \n",
       "3148            2357            38            15                       14   \n",
       "3149            3895            33           199                        5   \n",
       "\n",
       "      Age Group       Plan      Status  Age  Customer Value Churn  \n",
       "0             3   pre-paid      active   30         193.120    no  \n",
       "1             2   pre-paid      active   25         194.400   yes  \n",
       "2             2   pre-paid  not-active   25           0.000   yes  \n",
       "3             2   pre-paid      active   25        1579.140   yes  \n",
       "4             1   pre-paid      active   15         227.865   yes  \n",
       "...         ...        ...         ...  ...             ...   ...  \n",
       "3145          2   pre-paid      active   25         108.855   yes  \n",
       "3146          1  post-paid      active   15         711.205   yes  \n",
       "3147          4   pre-paid      active   45         357.525   yes  \n",
       "3148          3   pre-paid      active   30         155.800   yes  \n",
       "3149          3   pre-paid      active   30         953.120   yes  \n",
       "\n",
       "[3150 rows x 15 columns]"
      ]
     },
     "execution_count": 10,
     "metadata": {},
     "output_type": "execute_result"
    }
   ],
   "source": [
    "import pandas as pd\n",
    "import matplotlib.pyplot as plt\n",
    "\n",
    "# read the dataset file\n",
    "df = pd.read_csv('Customer Churn.csv')\n",
    "df"
   ]
  },
  {
   "cell_type": "markdown",
   "id": "bca6420e",
   "metadata": {},
   "source": [
    "<hr/>\n",
    "1. print the summary statistics of all attributes in the dataset."
   ]
  },
  {
   "cell_type": "code",
   "execution_count": 6,
   "id": "7b97582c",
   "metadata": {
    "scrolled": true
   },
   "outputs": [
    {
     "data": {
      "text/html": [
       "<div>\n",
       "<style scoped>\n",
       "    .dataframe tbody tr th:only-of-type {\n",
       "        vertical-align: middle;\n",
       "    }\n",
       "\n",
       "    .dataframe tbody tr th {\n",
       "        vertical-align: top;\n",
       "    }\n",
       "\n",
       "    .dataframe thead th {\n",
       "        text-align: right;\n",
       "    }\n",
       "</style>\n",
       "<table border=\"1\" class=\"dataframe\">\n",
       "  <thead>\n",
       "    <tr style=\"text-align: right;\">\n",
       "      <th></th>\n",
       "      <th>ID</th>\n",
       "      <th>Call Failure</th>\n",
       "      <th>Subscription  Length</th>\n",
       "      <th>Charge Amount</th>\n",
       "      <th>Seconds of Use</th>\n",
       "      <th>Freq. of use</th>\n",
       "      <th>Freq. of SMS</th>\n",
       "      <th>Distinct Called Numbers</th>\n",
       "      <th>Age Group</th>\n",
       "      <th>Age</th>\n",
       "      <th>Customer Value</th>\n",
       "    </tr>\n",
       "  </thead>\n",
       "  <tbody>\n",
       "    <tr>\n",
       "      <th>count</th>\n",
       "      <td>3150.000</td>\n",
       "      <td>3150.000000</td>\n",
       "      <td>3150.000000</td>\n",
       "      <td>3150.000000</td>\n",
       "      <td>3150.000000</td>\n",
       "      <td>3150.000000</td>\n",
       "      <td>3150.000000</td>\n",
       "      <td>3150.000000</td>\n",
       "      <td>3150.000000</td>\n",
       "      <td>3150.000000</td>\n",
       "      <td>3150.000000</td>\n",
       "    </tr>\n",
       "    <tr>\n",
       "      <th>mean</th>\n",
       "      <td>1575.500</td>\n",
       "      <td>7.627937</td>\n",
       "      <td>32.541905</td>\n",
       "      <td>0.942857</td>\n",
       "      <td>4472.459683</td>\n",
       "      <td>69.460635</td>\n",
       "      <td>73.174921</td>\n",
       "      <td>23.509841</td>\n",
       "      <td>2.826032</td>\n",
       "      <td>30.998413</td>\n",
       "      <td>470.972916</td>\n",
       "    </tr>\n",
       "    <tr>\n",
       "      <th>std</th>\n",
       "      <td>909.471</td>\n",
       "      <td>7.263886</td>\n",
       "      <td>8.573482</td>\n",
       "      <td>1.521072</td>\n",
       "      <td>4197.908687</td>\n",
       "      <td>57.413308</td>\n",
       "      <td>112.237560</td>\n",
       "      <td>17.217337</td>\n",
       "      <td>0.892555</td>\n",
       "      <td>8.831095</td>\n",
       "      <td>517.015433</td>\n",
       "    </tr>\n",
       "    <tr>\n",
       "      <th>min</th>\n",
       "      <td>1.000</td>\n",
       "      <td>0.000000</td>\n",
       "      <td>3.000000</td>\n",
       "      <td>0.000000</td>\n",
       "      <td>0.000000</td>\n",
       "      <td>0.000000</td>\n",
       "      <td>0.000000</td>\n",
       "      <td>0.000000</td>\n",
       "      <td>1.000000</td>\n",
       "      <td>15.000000</td>\n",
       "      <td>0.000000</td>\n",
       "    </tr>\n",
       "    <tr>\n",
       "      <th>25%</th>\n",
       "      <td>788.250</td>\n",
       "      <td>1.000000</td>\n",
       "      <td>30.000000</td>\n",
       "      <td>0.000000</td>\n",
       "      <td>1391.250000</td>\n",
       "      <td>27.000000</td>\n",
       "      <td>6.000000</td>\n",
       "      <td>10.000000</td>\n",
       "      <td>2.000000</td>\n",
       "      <td>25.000000</td>\n",
       "      <td>113.801250</td>\n",
       "    </tr>\n",
       "    <tr>\n",
       "      <th>50%</th>\n",
       "      <td>1575.500</td>\n",
       "      <td>6.000000</td>\n",
       "      <td>35.000000</td>\n",
       "      <td>0.000000</td>\n",
       "      <td>2990.000000</td>\n",
       "      <td>54.000000</td>\n",
       "      <td>21.000000</td>\n",
       "      <td>21.000000</td>\n",
       "      <td>3.000000</td>\n",
       "      <td>30.000000</td>\n",
       "      <td>228.480000</td>\n",
       "    </tr>\n",
       "    <tr>\n",
       "      <th>75%</th>\n",
       "      <td>2362.750</td>\n",
       "      <td>12.000000</td>\n",
       "      <td>38.000000</td>\n",
       "      <td>1.000000</td>\n",
       "      <td>6478.250000</td>\n",
       "      <td>95.000000</td>\n",
       "      <td>87.000000</td>\n",
       "      <td>34.000000</td>\n",
       "      <td>3.000000</td>\n",
       "      <td>30.000000</td>\n",
       "      <td>788.388750</td>\n",
       "    </tr>\n",
       "    <tr>\n",
       "      <th>max</th>\n",
       "      <td>3150.000</td>\n",
       "      <td>36.000000</td>\n",
       "      <td>47.000000</td>\n",
       "      <td>10.000000</td>\n",
       "      <td>17090.000000</td>\n",
       "      <td>255.000000</td>\n",
       "      <td>522.000000</td>\n",
       "      <td>97.000000</td>\n",
       "      <td>5.000000</td>\n",
       "      <td>55.000000</td>\n",
       "      <td>2165.280000</td>\n",
       "    </tr>\n",
       "  </tbody>\n",
       "</table>\n",
       "</div>"
      ],
      "text/plain": [
       "             ID  Call Failure  Subscription  Length  Charge Amount  \\\n",
       "count  3150.000   3150.000000           3150.000000    3150.000000   \n",
       "mean   1575.500      7.627937             32.541905       0.942857   \n",
       "std     909.471      7.263886              8.573482       1.521072   \n",
       "min       1.000      0.000000              3.000000       0.000000   \n",
       "25%     788.250      1.000000             30.000000       0.000000   \n",
       "50%    1575.500      6.000000             35.000000       0.000000   \n",
       "75%    2362.750     12.000000             38.000000       1.000000   \n",
       "max    3150.000     36.000000             47.000000      10.000000   \n",
       "\n",
       "       Seconds of Use  Freq. of use  Freq. of SMS  Distinct Called Numbers  \\\n",
       "count     3150.000000   3150.000000   3150.000000              3150.000000   \n",
       "mean      4472.459683     69.460635     73.174921                23.509841   \n",
       "std       4197.908687     57.413308    112.237560                17.217337   \n",
       "min          0.000000      0.000000      0.000000                 0.000000   \n",
       "25%       1391.250000     27.000000      6.000000                10.000000   \n",
       "50%       2990.000000     54.000000     21.000000                21.000000   \n",
       "75%       6478.250000     95.000000     87.000000                34.000000   \n",
       "max      17090.000000    255.000000    522.000000                97.000000   \n",
       "\n",
       "         Age Group          Age  Customer Value  \n",
       "count  3150.000000  3150.000000     3150.000000  \n",
       "mean      2.826032    30.998413      470.972916  \n",
       "std       0.892555     8.831095      517.015433  \n",
       "min       1.000000    15.000000        0.000000  \n",
       "25%       2.000000    25.000000      113.801250  \n",
       "50%       3.000000    30.000000      228.480000  \n",
       "75%       3.000000    30.000000      788.388750  \n",
       "max       5.000000    55.000000     2165.280000  "
      ]
     },
     "execution_count": 6,
     "metadata": {},
     "output_type": "execute_result"
    }
   ],
   "source": [
    "df.describe()"
   ]
  },
  {
   "cell_type": "markdown",
   "id": "81b6010d",
   "metadata": {},
   "source": [
    "<hr/>\n",
    "2. Show the distribution of the class label (churn) and indicate any highlights in the distribution of the class label."
   ]
  },
  {
   "cell_type": "code",
   "execution_count": 21,
   "id": "53423c13",
   "metadata": {
    "scrolled": false
   },
   "outputs": [
    {
     "data": {
      "text/plain": [
       "<AxesSubplot: ylabel='Churn'>"
      ]
     },
     "execution_count": 21,
     "metadata": {},
     "output_type": "execute_result"
    },
    {
     "data": {
      "image/png": "[encoded data removed]",
      "text/plain": [
       "<Figure size 640x480 with 1 Axes>"
      ]
     },
     "metadata": {},
     "output_type": "display_data"
    }
   ],
   "source": [
    "df['Churn'].value_counts().plot(kind=\"pie\", autopct=\"%1.1f%%\")"
   ]
  },
  {
   "cell_type": "code",
   "execution_count": 22,
   "id": "81da7705",
   "metadata": {},
   "outputs": [
    {
     "data": {
      "text/plain": [
       "<AxesSubplot: >"
      ]
     },
     "execution_count": 22,
     "metadata": {},
     "output_type": "execute_result"
    },
    {
     "data": {
      "image/png": "[encoded data removed]",
      "text/plain": [
       "<Figure size 640x480 with 1 Axes>"
      ]
     },
     "metadata": {},
     "output_type": "display_data"
    }
   ],
   "source": [
    "df['Churn'].value_counts().plot(kind=\"bar\")"
   ]
  },
  {
   "cell_type": "markdown",
   "id": "25019548",
   "metadata": {},
   "source": [
    "We realize that our churn rate is 84.3%, which determines that a lot of customers are not satisfied with the company services and stop dealing with the company. That is a huge indicator of a bad policy, and something has to change."
   ]
  },
  {
   "cell_type": "markdown",
   "id": "78711426",
   "metadata": {},
   "source": [
    "<hr/>\n",
    "3. For each age group, draw a histogram detailing the amount of churn in each subgroup."
   ]
  },
  {
   "cell_type": "code",
   "execution_count": 74,
   "id": "d486c72e",
   "metadata": {
    "scrolled": false
   },
   "outputs": [
    {
     "data": {
      "text/plain": [
       "Text(0, 0.5, 'Percentage')"
      ]
     },
     "execution_count": 74,
     "metadata": {},
     "output_type": "execute_result"
    },
    {
     "data": {
      "image/png": "[encoded data removed]",
      "text/plain": [
       "<Figure size 640x480 with 1 Axes>"
      ]
     },
     "metadata": {},
     "output_type": "display_data"
    }
   ],
   "source": [
    "# Group the data by age group and plot a bar chart for each group\n",
    "(df.groupby('Age Group')['Churn']\n",
    "   .value_counts()\n",
    "   .unstack(1)\n",
    "   .apply(lambda x: x / x.sum(), axis=1)\n",
    "   .plot(kind=\"bar\"))\n",
    "\n",
    "plt.xlabel(\"Age Group\")\n",
    "plt.ylabel(\"Percentage\")"
   ]
  },
  {
   "cell_type": "markdown",
   "id": "0f11610e",
   "metadata": {},
   "source": [
    "<hr/>\n",
    "4. For each Charge amount, draw a histogram detailing the amount of churn in each subgroup."
   ]
  },
  {
   "cell_type": "code",
   "execution_count": 75,
   "id": "a48b99ea",
   "metadata": {},
   "outputs": [
    {
     "data": {
      "text/plain": [
       "Text(0, 0.5, 'Percentage')"
      ]
     },
     "execution_count": 75,
     "metadata": {},
     "output_type": "execute_result"
    },
    {
     "data": {
      "image/png": "[encoded data removed]",
      "text/plain": [
       "<Figure size 640x480 with 1 Axes>"
      ]
     },
     "metadata": {},
     "output_type": "display_data"
    }
   ],
   "source": [
    "# Group the data by chage amount and plot a bar chart for each group\n",
    "(df.groupby('Charge Amount')['Churn']\n",
    "   .value_counts()\n",
    "   .unstack(1)\n",
    "   .apply(lambda x: x / x.sum(), axis=1)\n",
    "   .plot(kind=\"bar\"))\n",
    "\n",
    "plt.xlabel(\"Charge Amount\")\n",
    "plt.ylabel(\"Percentage\")"
   ]
  }
 ],
 "metadata": {
  "kernelspec": {
   "display_name": "Python 3 (ipykernel)",
   "language": "python",
   "name": "python3"
  },
  "language_info": {
   "codemirror_mode": {
    "name": "ipython",
    "version": 3
   },
   "file_extension": ".py",
   "mimetype": "text/x-python",
   "name": "python",
   "nbconvert_exporter": "python",
   "pygments_lexer": "ipython3",
   "version": "3.10.1"
  }
 },
 "nbformat": 4,
 "nbformat_minor": 5
}
